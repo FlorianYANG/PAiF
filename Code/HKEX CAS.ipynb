{
 "cells": [
  {
   "cell_type": "markdown",
   "id": "a94e7716",
   "metadata": {},
   "source": [
    "# H share close auction session"
   ]
  },
  {
   "cell_type": "code",
   "execution_count": 1,
   "id": "1cd447cd",
   "metadata": {},
   "outputs": [],
   "source": [
    "import pandas as pd\n",
    "\n",
    "# hx sec https://hk.vbkr.com/help/topic2-what-is-the-reference-equilibrium-price-of-hk-stocks\n",
    "# hkex https://www.hkex.com.hk/global/exchange/faq/securities-market/trading/pre_opening-session?sc_lang=zh-hk#collapse-9"
   ]
  },
  {
   "cell_type": "code",
   "execution_count": 45,
   "id": "31b5f513",
   "metadata": {},
   "outputs": [],
   "source": [
    "def cas(reference, lmt_buy, auc_buy, lmt_sell, auc_sell):\n",
    "    px_all = list(set(lmt_buy.keys()) | set(lmt_sell.keys()))\n",
    "    if lmt_sell:\n",
    "        low = min(lmt_sell.keys())\n",
    "    else:\n",
    "        low = float('inf')\n",
    "    if lmt_buy:\n",
    "        high = max(lmt_buy.keys())\n",
    "    else:\n",
    "        high = float('-inf')\n",
    "    if low > high:  # if no buy>=sell, then take reference\n",
    "        print(f\"Can't determine IEP from limit order, we use reference price {reference} as IEP\\n\")\n",
    "        px = [reference]\n",
    "        px_all.append(reference)\n",
    "    else:\n",
    "        px = []\n",
    "        for p in px_all:\n",
    "            if low<=p<=high:\n",
    "                px.append(p)\n",
    "    px_all.sort()\n",
    "\n",
    "    acc_buy = auc_buy\n",
    "    acc_sell = auc_sell\n",
    "    book = {p: [0, 0, 0] for p in reversed(px_all)}\n",
    "\n",
    "    for p in px_all:\n",
    "        if p in lmt_sell:\n",
    "            acc_sell += lmt_sell[p]\n",
    "        book[p][1] = acc_sell\n",
    "    for p in reversed(px_all):\n",
    "        if p in lmt_buy:\n",
    "            acc_buy += lmt_buy[p]\n",
    "        book[p][0] = acc_buy\n",
    "    for p in px_all:\n",
    "        b, s, _ = book[p]\n",
    "        book[p][2] = min(b, s)\n",
    "\n",
    "    iev = 0\n",
    "    iep = -1\n",
    "    for p in px:\n",
    "        if book[p][2]>iev:\n",
    "            iev = book[p][2]\n",
    "            iep = p\n",
    "    if iep==-1:\n",
    "        print(\"No match\")\n",
    "    else:\n",
    "        print(f\"IEP will be {iep}, and IEV will be {iev}\")\n",
    "    book = pd.DataFrame.from_dict(book, orient=\"index\")\n",
    "    book.columns = [\"buy_acc\", \"sell_acc\", \"match\"]\n",
    "    return book"
   ]
  },
  {
   "cell_type": "code",
   "execution_count": 52,
   "id": "16e9b028",
   "metadata": {},
   "outputs": [
    {
     "name": "stdout",
     "output_type": "stream",
     "text": [
      "Can't determine IEP from limit order, we use reference price 10 as IEP\n",
      "\n",
      "No match\n"
     ]
    },
    {
     "data": {
      "text/html": [
       "<div>\n",
       "<style scoped>\n",
       "    .dataframe tbody tr th:only-of-type {\n",
       "        vertical-align: middle;\n",
       "    }\n",
       "\n",
       "    .dataframe tbody tr th {\n",
       "        vertical-align: top;\n",
       "    }\n",
       "\n",
       "    .dataframe thead th {\n",
       "        text-align: right;\n",
       "    }\n",
       "</style>\n",
       "<table border=\"1\" class=\"dataframe\">\n",
       "  <thead>\n",
       "    <tr style=\"text-align: right;\">\n",
       "      <th></th>\n",
       "      <th>buy_acc</th>\n",
       "      <th>sell_acc</th>\n",
       "      <th>match</th>\n",
       "    </tr>\n",
       "  </thead>\n",
       "  <tbody>\n",
       "    <tr>\n",
       "      <th>10</th>\n",
       "      <td>0</td>\n",
       "      <td>0</td>\n",
       "      <td>0</td>\n",
       "    </tr>\n",
       "  </tbody>\n",
       "</table>\n",
       "</div>"
      ],
      "text/plain": [
       "    buy_acc  sell_acc  match\n",
       "10        0         0      0"
      ]
     },
     "execution_count": 52,
     "metadata": {},
     "output_type": "execute_result"
    }
   ],
   "source": [
    "# empty case\n",
    "reference = 10\n",
    "lmt_buy = {}\n",
    "auc_buy = 0\n",
    "lmt_sell = {}\n",
    "auc_sell = 0\n",
    "\n",
    "cas(reference, lmt_buy, auc_buy, lmt_sell, auc_sell)"
   ]
  },
  {
   "cell_type": "code",
   "execution_count": 46,
   "id": "8a9d2d1f",
   "metadata": {},
   "outputs": [
    {
     "name": "stdout",
     "output_type": "stream",
     "text": [
      "IEP will be 10, and IEV will be 1300\n"
     ]
    },
    {
     "data": {
      "text/html": [
       "<div>\n",
       "<style scoped>\n",
       "    .dataframe tbody tr th:only-of-type {\n",
       "        vertical-align: middle;\n",
       "    }\n",
       "\n",
       "    .dataframe tbody tr th {\n",
       "        vertical-align: top;\n",
       "    }\n",
       "\n",
       "    .dataframe thead th {\n",
       "        text-align: right;\n",
       "    }\n",
       "</style>\n",
       "<table border=\"1\" class=\"dataframe\">\n",
       "  <thead>\n",
       "    <tr style=\"text-align: right;\">\n",
       "      <th></th>\n",
       "      <th>buy_acc</th>\n",
       "      <th>sell_acc</th>\n",
       "      <th>match</th>\n",
       "    </tr>\n",
       "  </thead>\n",
       "  <tbody>\n",
       "    <tr>\n",
       "      <th>12</th>\n",
       "      <td>100</td>\n",
       "      <td>2700</td>\n",
       "      <td>100</td>\n",
       "    </tr>\n",
       "    <tr>\n",
       "      <th>11</th>\n",
       "      <td>800</td>\n",
       "      <td>2400</td>\n",
       "      <td>800</td>\n",
       "    </tr>\n",
       "    <tr>\n",
       "      <th>10</th>\n",
       "      <td>1300</td>\n",
       "      <td>1800</td>\n",
       "      <td>1300</td>\n",
       "    </tr>\n",
       "    <tr>\n",
       "      <th>9</th>\n",
       "      <td>1500</td>\n",
       "      <td>600</td>\n",
       "      <td>600</td>\n",
       "    </tr>\n",
       "    <tr>\n",
       "      <th>8</th>\n",
       "      <td>2500</td>\n",
       "      <td>400</td>\n",
       "      <td>400</td>\n",
       "    </tr>\n",
       "  </tbody>\n",
       "</table>\n",
       "</div>"
      ],
      "text/plain": [
       "    buy_acc  sell_acc  match\n",
       "12      100      2700    100\n",
       "11      800      2400    800\n",
       "10     1300      1800   1300\n",
       "9      1500       600    600\n",
       "8      2500       400    400"
      ]
     },
     "execution_count": 46,
     "metadata": {},
     "output_type": "execute_result"
    }
   ],
   "source": [
    "# case 1\n",
    "# https://hk.vbkr.com/help/topic2-what-is-the-reference-equilibrium-price-of-hk-stocks\n",
    "reference = 10\n",
    "lmt_buy = {8: 1000, 9: 200, 10: 500, 11: 700, 12: 100}\n",
    "auc_buy = 0\n",
    "lmt_sell = {8: 400, 9: 200, 10: 1200, 11: 600, 12: 300}\n",
    "auc_sell = 0\n",
    "\n",
    "cas(reference, lmt_buy, auc_buy, lmt_sell, auc_sell)"
   ]
  },
  {
   "cell_type": "code",
   "execution_count": 47,
   "id": "267a4497",
   "metadata": {},
   "outputs": [
    {
     "name": "stdout",
     "output_type": "stream",
     "text": [
      "Can't determine IEP from limit order, we use reference price 100 as IEP\n",
      "\n",
      "No match\n"
     ]
    },
    {
     "data": {
      "text/html": [
       "<div>\n",
       "<style scoped>\n",
       "    .dataframe tbody tr th:only-of-type {\n",
       "        vertical-align: middle;\n",
       "    }\n",
       "\n",
       "    .dataframe tbody tr th {\n",
       "        vertical-align: top;\n",
       "    }\n",
       "\n",
       "    .dataframe thead th {\n",
       "        text-align: right;\n",
       "    }\n",
       "</style>\n",
       "<table border=\"1\" class=\"dataframe\">\n",
       "  <thead>\n",
       "    <tr style=\"text-align: right;\">\n",
       "      <th></th>\n",
       "      <th>buy_acc</th>\n",
       "      <th>sell_acc</th>\n",
       "      <th>match</th>\n",
       "    </tr>\n",
       "  </thead>\n",
       "  <tbody>\n",
       "    <tr>\n",
       "      <th>102</th>\n",
       "      <td>100</td>\n",
       "      <td>100</td>\n",
       "      <td>100</td>\n",
       "    </tr>\n",
       "    <tr>\n",
       "      <th>101</th>\n",
       "      <td>200</td>\n",
       "      <td>0</td>\n",
       "      <td>0</td>\n",
       "    </tr>\n",
       "    <tr>\n",
       "      <th>100</th>\n",
       "      <td>200</td>\n",
       "      <td>0</td>\n",
       "      <td>0</td>\n",
       "    </tr>\n",
       "  </tbody>\n",
       "</table>\n",
       "</div>"
      ],
      "text/plain": [
       "     buy_acc  sell_acc  match\n",
       "102      100       100    100\n",
       "101      200         0      0\n",
       "100      200         0      0"
      ]
     },
     "execution_count": 47,
     "metadata": {},
     "output_type": "execute_result"
    }
   ],
   "source": [
    "# case 2\n",
    "# https://www.hkex.com.hk/-/media/HKEX-Market/Services/Trading/Securities/Overview/Trading-Mechanism/Trading-Mechanism-of-CAS-in-the-Securities-Market-(Chi).pdf\n",
    "reference = 100\n",
    "lmt_buy = {101:100}\n",
    "auc_buy = 100\n",
    "lmt_sell = {102:100}\n",
    "auc_sell = 0\n",
    "\n",
    "cas(reference, lmt_buy, auc_buy, lmt_sell, auc_sell)"
   ]
  },
  {
   "cell_type": "code",
   "execution_count": 48,
   "id": "4ff16af0",
   "metadata": {},
   "outputs": [
    {
     "name": "stdout",
     "output_type": "stream",
     "text": [
      "Can't determine IEP from limit order, we use reference price 100 as IEP\n",
      "\n",
      "IEP will be 100, and IEV will be 100\n"
     ]
    },
    {
     "data": {
      "text/html": [
       "<div>\n",
       "<style scoped>\n",
       "    .dataframe tbody tr th:only-of-type {\n",
       "        vertical-align: middle;\n",
       "    }\n",
       "\n",
       "    .dataframe tbody tr th {\n",
       "        vertical-align: top;\n",
       "    }\n",
       "\n",
       "    .dataframe thead th {\n",
       "        text-align: right;\n",
       "    }\n",
       "</style>\n",
       "<table border=\"1\" class=\"dataframe\">\n",
       "  <thead>\n",
       "    <tr style=\"text-align: right;\">\n",
       "      <th></th>\n",
       "      <th>buy_acc</th>\n",
       "      <th>sell_acc</th>\n",
       "      <th>match</th>\n",
       "    </tr>\n",
       "  </thead>\n",
       "  <tbody>\n",
       "    <tr>\n",
       "      <th>100</th>\n",
       "      <td>100</td>\n",
       "      <td>100</td>\n",
       "      <td>100</td>\n",
       "    </tr>\n",
       "    <tr>\n",
       "      <th>99</th>\n",
       "      <td>100</td>\n",
       "      <td>100</td>\n",
       "      <td>100</td>\n",
       "    </tr>\n",
       "  </tbody>\n",
       "</table>\n",
       "</div>"
      ],
      "text/plain": [
       "     buy_acc  sell_acc  match\n",
       "100      100       100    100\n",
       "99       100       100    100"
      ]
     },
     "execution_count": 48,
     "metadata": {},
     "output_type": "execute_result"
    }
   ],
   "source": [
    "# case 3\n",
    "# https://www.hkex.com.hk/-/media/HKEX-Market/Services/Trading/Securities/Overview/Trading-Mechanism/Trading-Mechanism-of-CAS-in-the-Securities-Market-(Chi).pdf\n",
    "reference = 100\n",
    "lmt_buy = {}\n",
    "auc_buy = 100\n",
    "lmt_sell = {99:100}\n",
    "auc_sell = 0\n",
    "\n",
    "cas(reference, lmt_buy, auc_buy, lmt_sell, auc_sell)"
   ]
  },
  {
   "cell_type": "code",
   "execution_count": 49,
   "id": "1d7c5ce4",
   "metadata": {},
   "outputs": [
    {
     "name": "stdout",
     "output_type": "stream",
     "text": [
      "IEP will be 32, and IEV will be 11000\n"
     ]
    },
    {
     "data": {
      "text/html": [
       "<div>\n",
       "<style scoped>\n",
       "    .dataframe tbody tr th:only-of-type {\n",
       "        vertical-align: middle;\n",
       "    }\n",
       "\n",
       "    .dataframe tbody tr th {\n",
       "        vertical-align: top;\n",
       "    }\n",
       "\n",
       "    .dataframe thead th {\n",
       "        text-align: right;\n",
       "    }\n",
       "</style>\n",
       "<table border=\"1\" class=\"dataframe\">\n",
       "  <thead>\n",
       "    <tr style=\"text-align: right;\">\n",
       "      <th></th>\n",
       "      <th>buy_acc</th>\n",
       "      <th>sell_acc</th>\n",
       "      <th>match</th>\n",
       "    </tr>\n",
       "  </thead>\n",
       "  <tbody>\n",
       "    <tr>\n",
       "      <th>32.2</th>\n",
       "      <td>2000</td>\n",
       "      <td>41000</td>\n",
       "      <td>2000</td>\n",
       "    </tr>\n",
       "    <tr>\n",
       "      <th>32.1</th>\n",
       "      <td>2000</td>\n",
       "      <td>34000</td>\n",
       "      <td>2000</td>\n",
       "    </tr>\n",
       "    <tr>\n",
       "      <th>32.0</th>\n",
       "      <td>11000</td>\n",
       "      <td>26000</td>\n",
       "      <td>11000</td>\n",
       "    </tr>\n",
       "    <tr>\n",
       "      <th>31.9</th>\n",
       "      <td>24000</td>\n",
       "      <td>10000</td>\n",
       "      <td>10000</td>\n",
       "    </tr>\n",
       "  </tbody>\n",
       "</table>\n",
       "</div>"
      ],
      "text/plain": [
       "      buy_acc  sell_acc  match\n",
       "32.2     2000     41000   2000\n",
       "32.1     2000     34000   2000\n",
       "32.0    11000     26000  11000\n",
       "31.9    24000     10000  10000"
      ]
     },
     "execution_count": 49,
     "metadata": {},
     "output_type": "execute_result"
    }
   ],
   "source": [
    "# case 4\n",
    "# https://www.hkex.com.hk/global/exchange/faq/securities-market/trading/pre_opening-session?sc_lang=zh-HK#collapse-9\n",
    "reference = 32\n",
    "lmt_buy = {31.9:13000,32:9000}\n",
    "auc_buy = 2000\n",
    "lmt_sell = {31.9:10000, 32:16000, 32.1:8000, 32.2:7000}\n",
    "auc_sell = 0\n",
    "\n",
    "cas(reference, lmt_buy, auc_buy, lmt_sell, auc_sell)"
   ]
  },
  {
   "cell_type": "code",
   "execution_count": 50,
   "id": "73070263",
   "metadata": {},
   "outputs": [
    {
     "name": "stdout",
     "output_type": "stream",
     "text": [
      "IEP will be 64.25, and IEV will be 11000\n"
     ]
    },
    {
     "data": {
      "text/html": [
       "<div>\n",
       "<style scoped>\n",
       "    .dataframe tbody tr th:only-of-type {\n",
       "        vertical-align: middle;\n",
       "    }\n",
       "\n",
       "    .dataframe tbody tr th {\n",
       "        vertical-align: top;\n",
       "    }\n",
       "\n",
       "    .dataframe thead th {\n",
       "        text-align: right;\n",
       "    }\n",
       "</style>\n",
       "<table border=\"1\" class=\"dataframe\">\n",
       "  <thead>\n",
       "    <tr style=\"text-align: right;\">\n",
       "      <th></th>\n",
       "      <th>buy_acc</th>\n",
       "      <th>sell_acc</th>\n",
       "      <th>match</th>\n",
       "    </tr>\n",
       "  </thead>\n",
       "  <tbody>\n",
       "    <tr>\n",
       "      <th>64.25</th>\n",
       "      <td>11000</td>\n",
       "      <td>14000</td>\n",
       "      <td>11000</td>\n",
       "    </tr>\n",
       "    <tr>\n",
       "      <th>64.00</th>\n",
       "      <td>16000</td>\n",
       "      <td>10000</td>\n",
       "      <td>10000</td>\n",
       "    </tr>\n",
       "    <tr>\n",
       "      <th>63.75</th>\n",
       "      <td>18000</td>\n",
       "      <td>7000</td>\n",
       "      <td>7000</td>\n",
       "    </tr>\n",
       "  </tbody>\n",
       "</table>\n",
       "</div>"
      ],
      "text/plain": [
       "       buy_acc  sell_acc  match\n",
       "64.25    11000     14000  11000\n",
       "64.00    16000     10000  10000\n",
       "63.75    18000      7000   7000"
      ]
     },
     "execution_count": 50,
     "metadata": {},
     "output_type": "execute_result"
    }
   ],
   "source": [
    "# case 5\n",
    "# https://www.hkex.com.hk/global/exchange/faq/securities-market/trading/pre_opening-session?sc_lang=zh-HK#collapse-9\n",
    "reference = 64\n",
    "lmt_buy = {63.75:2000, 64:5000, 64.25:1000}\n",
    "auc_buy = 10000\n",
    "lmt_sell = {63.75:2000, 64:3000, 64.25:4000}\n",
    "auc_sell = 5000\n",
    "\n",
    "cas(reference, lmt_buy, auc_buy, lmt_sell, auc_sell)"
   ]
  },
  {
   "cell_type": "code",
   "execution_count": null,
   "id": "eb0f3bd0",
   "metadata": {},
   "outputs": [],
   "source": []
  },
  {
   "cell_type": "code",
   "execution_count": null,
   "id": "9be01cd5",
   "metadata": {},
   "outputs": [],
   "source": []
  }
 ],
 "metadata": {
  "kernelspec": {
   "display_name": "Python 3 (ipykernel)",
   "language": "python",
   "name": "python3"
  },
  "language_info": {
   "codemirror_mode": {
    "name": "ipython",
    "version": 3
   },
   "file_extension": ".py",
   "mimetype": "text/x-python",
   "name": "python",
   "nbconvert_exporter": "python",
   "pygments_lexer": "ipython3",
   "version": "3.9.7"
  }
 },
 "nbformat": 4,
 "nbformat_minor": 5
}
