{
 "cells": [
  {
   "cell_type": "code",
   "execution_count": 1,
   "metadata": {},
   "outputs": [],
   "source": [
    "from time import time\n",
    "from numpy import log, sqrt, exp\n",
    "import numpy as np\n",
    "import pandas as pd\n",
    "from scipy.stats import norm\n",
    "\n",
    "np.set_printoptions(precision = 4)"
   ]
  },
  {
   "cell_type": "code",
   "execution_count": 2,
   "metadata": {},
   "outputs": [],
   "source": [
    "def gen_stock_price(S0, rands = None, rows = None, cols = None, time = None):\n",
    "    '''Generate the value of stock [based on given random variable]'''\n",
    "    if rands is None:    # if no random variable, generate random standard normal variable based on given rows and cols\n",
    "        if rows is None or cols is None: raise ValueError(\"Must take rands or rows and cols as input\")\n",
    "        randoms = np.random.randn(rows, cols)\n",
    "    else:\n",
    "        rows = len(randoms)    # otherwises, we use the passed-in data and we get its number of row\n",
    "        randoms = rands.copy()\n",
    "    if time is None:    # if no time interval, default to be 1/365\n",
    "        time = np.full(shape = rows, fill_value = 1/365)\n",
    "    \n",
    "    randoms[0] = S0 \n",
    "    for i in range(1,rows):\n",
    "        randoms[i] = randoms[i-1] * exp((r-q-v**2/2)*time[i] + v*sqrt(time[i]) * randoms[i])\n",
    "    \n",
    "    return randoms\n",
    "\n",
    "def get_date_interval(dates):\n",
    "    '''get the interval of dates, used as dt to derive stock price'''\n",
    "    l = len(dates)\n",
    "    interval = list((dates[i]-dates[i-1]).days for i in range(l))\n",
    "    return np.array(interval)\n",
    "def get_act_date(dates):\n",
    "    '''get the time range from start date to each date after, used for discounting'''\n",
    "    l = len(dates)\n",
    "    act = list((dates[i]-dates[0]).days for i in range(l))\n",
    "    return np.array(act)\n",
    "\n",
    "def eval_option(path, K, rebate = 0, DI = None, UO = None):\n",
    "    '''\n",
    "    return the rebate value or final value and the computed date of such value. e.g. value, date number\n",
    "    \n",
    "    path: a path of stock value pd.Series\n",
    "    \n",
    "    DI,UO: optional pd.Series\n",
    "    '''\n",
    "    l = len(path)\n",
    "    path_v = path.values\n",
    "        \n",
    "    if UO is not None:\n",
    "        UO_v = UO.values\n",
    "        loc = np.argmax(path_v>UO_v) # argmax return the location of first largest, useful here\n",
    "        if loc>0: return rebate, loc\n",
    "    \n",
    "    if DI is not None:\n",
    "        DI_v = DI.values\n",
    "        DI_flag = np.any(path_v<DI_v) # DI for once\n",
    "    else:\n",
    "        DI_flag = 1\n",
    "    \n",
    "    value = max(path_v[-1]-K,0) * DI_flag\n",
    "    return value, l-1\n",
    "\n",
    "def cal_mc_result(S0, K, r, q, v, mcpath, dates, rands=None, event=None, rebate = 0):\n",
    "    '''\n",
    "    main monte carlo program, can accept predefined random variables to realize antithetic MC\n",
    "    \n",
    "    can consider UO or DI event,\n",
    "    \n",
    "    return an array of discounted value, length = mcpath\n",
    "    '''\n",
    "    ###### generate stock price\n",
    "    dates_num = len(dates)\n",
    "    date_interval = get_date_interval(dates) / 365\n",
    "    if rands is None:\n",
    "        stock_data = gen_stock_price(S0, rows = dates_num, cols = mcpath, time = date_interval)\n",
    "    else:\n",
    "        stock_data = gen_stock_price(S0, rands = rands, time = date_interval)\n",
    "    stock = pd.DataFrame(stock_data, columns = list(range(mcpath)), index = dates)\n",
    "    \n",
    "    ###### \n",
    "    discount = exp(get_act_date(dates) / 365 * r)\n",
    "    results = np.zeros(mcpath)\n",
    "\n",
    "    UO = event['UO'] if 'UO' in event.columns else None\n",
    "    DI = event['DI'] if 'DI' in event.columns else None\n",
    "        \n",
    "    for path in range(mcpath):\n",
    "        val, date = eval_option(stock[path], K, rebate=rebate, UO=UO, DI=DI)\n",
    "        results[path] = val * discount[date]\n",
    "\n",
    "    return results"
   ]
  },
  {
   "cell_type": "code",
   "execution_count": 3,
   "metadata": {},
   "outputs": [],
   "source": [
    "def barrier_option(S, K, H, r, q, sig, t, otype, R=0):\n",
    "    \"\"\"return the analytical solution of american barrier\"\"\"\n",
    "    def help(eta, phi, coe):\n",
    "        f = [0]*6\n",
    "        f[0] = phi*S*d**(-t)*norm.cdf(phi*x)  - phi*K*r**(-t)*norm.cdf(phi*x -  phi*sig*sqrt(t))\n",
    "        f[1] = phi*S*d**(-t)*norm.cdf(phi*x1) - phi*K*r**(-t)*norm.cdf(phi*x1 - phi*sig*sqrt(t))\n",
    "\n",
    "        f[2] = phi*S*d**(-t)*(H/S)**(2*_lambda)*norm.cdf(eta*y) - phi*K*r**(-t)*(H/S)**(2*_lambda-2)*norm.cdf(eta*y - eta*sig*sqrt(t))\n",
    "        f[3] = phi*S*d**(-t)*(H/S)**(2*_lambda)*norm.cdf(eta*y1) - phi*K*r**(-t)*(H/S)**(2*_lambda-2)*norm.cdf(eta*y1 - eta*sig*sqrt(t))\n",
    "\n",
    "        f[4] = R*r**(-t)*(norm.cdf(eta*x1 - eta*sig*sqrt(t)) - (H/S)**(2*_lambda-2)*norm.cdf(eta*y1 - eta*sig*sqrt(t)))\n",
    "        f[5] = R*((H/S)**(a+b)*norm.cdf(eta*z) + (H/S)**(a-b)*norm.cdf(eta*z - 2*eta*b*sig*sqrt(t)))\n",
    "        \n",
    "        return sum(f[i]*coe[i] for i in range(6))\n",
    "    \n",
    "    # t can be an array of day or just the fraction of year\n",
    "    if hasattr(t, \"__len__\"):\n",
    "        t = len(t)/365\n",
    "    \n",
    "    r, d = r+1, q+1\n",
    "\n",
    "    miu = log(r/d) - sig**2/2\n",
    "    _lambda = (1+miu/sig**2)\n",
    "    a = miu/sig**2\n",
    "    b = sqrt(miu**2 +2*log(r)*sig**2)/sig**2\n",
    "\n",
    "    x  = log(S/K)     /sig/sqrt(t) + _lambda*sig*sqrt(t)\n",
    "    x1 = log(S/H)     /sig/sqrt(t) + _lambda*sig*sqrt(t)\n",
    "    y  = log(H**2/S/K)/sig/sqrt(t) + _lambda*sig*sqrt(t)\n",
    "    y1 = log(H/S)     /sig/sqrt(t) + _lambda*sig*sqrt(t)\n",
    "    z  = log(H/S)     /sig/sqrt(t) + b      *sig*sqrt(t)\n",
    "\n",
    "    if otype == \"CUO\" and K<=H: return help(-1, 1, ( 1,-1, 1,-1, 0, 1))\n",
    "    if otype == \"CUO\" and K> H: return help(-1, 1, ( 0, 0, 0, 0, 0, 1))\n",
    "    if otype == \"CUI\" and K<=H: return help(-1, 1, ( 0, 1,-1, 1, 1, 0))\n",
    "    if otype == \"CUI\" and K> H: return help(-1, 1, ( 1, 0, 0, 0, 1, 0))\n",
    "    \n",
    "    if otype == \"CDO\" and K<=H: return help( 1, 1, ( 0, 1, 0,-1, 0, 1))\n",
    "    if otype == \"CDO\" and K> H: return help( 1, 1, ( 1, 0,-1, 0, 0, 1))\n",
    "    if otype == \"CDI\" and K<=H: return help( 1, 1, ( 1,-1, 0, 1, 1, 0))\n",
    "    if otype == \"CDI\" and K> H: return help( 1, 1, ( 0, 0, 1, 0, 1, 0))\n",
    "    \n",
    "    if otype == \"PUO\" and K<=H: return help(-1,-1, ( 1, 0,-1, 0, 0, 1))\n",
    "    if otype == \"PUO\" and K> H: return help(-1,-1, ( 0, 1, 0,-1, 0, 1))\n",
    "    if otype == \"PUI\" and K<=H: return help(-1,-1, ( 0, 0, 1, 0, 1, 0))\n",
    "    if otype == \"PUI\" and K> H: return help(-1,-1, ( 1,-1, 0, 1, 1, 0))\n",
    "    \n",
    "    if otype == \"PDO\" and K<=H: return help( 1,-1, ( 0, 0, 0, 0, 0, 1))\n",
    "    if otype == \"PDO\" and K> H: return help( 1,-1, ( 1,-1, 1,-1, 0, 1))\n",
    "    if otype == \"PDI\" and K<=H: return help( 1,-1, ( 1, 0, 0, 0, 1, 0))\n",
    "    if otype == \"PDI\" and K> H: return help( 1,-1, ( 0, 1,-1, 1, 1, 0))\n",
    "    \n",
    "    raise KeyError(\"otype has wrong input\")"
   ]
  },
  {
   "cell_type": "markdown",
   "metadata": {},
   "source": [
    "## Barrier Option Pricing\n",
    "spot: 100 <br>\n",
    "strike: 105 <br>\n",
    "maturity: 6 months <br>\n",
    "volatility: 30% <br>\n",
    "no dividend <br>\n",
    "riskfree rate: 2%"
   ]
  },
  {
   "cell_type": "code",
   "execution_count": 4,
   "metadata": {},
   "outputs": [],
   "source": [
    "# Some preset parameters\n",
    "S0, K, r, q, v = 100., 105., .02, 0., .3\n",
    "mcpath = 10000 # number of path for one Monte Carlo\n",
    "dates = pd.bdate_range(start = pd.datetime(2020,6,1), end = pd.datetime(2020,11,30))\n",
    "dates_num = len(dates)"
   ]
  },
  {
   "cell_type": "markdown",
   "metadata": {},
   "source": [
    "## Case 1\n",
    "Constant Up and Out barrier at 110 effective in the last 3 months "
   ]
  },
  {
   "cell_type": "code",
   "execution_count": 5,
   "metadata": {},
   "outputs": [
    {
     "name": "stdout",
     "output_type": "stream",
     "text": [
      "It takes 0.4743 sec to do the MC with control variates with 10000 paths\n",
      "\n",
      "The result is, 0.035912, with a variance of 0.109633\n",
      "\n"
     ]
    }
   ],
   "source": [
    "# simple MC\n",
    "time1 = time()\n",
    "rebate = 0\n",
    "\n",
    "event = pd.DataFrame(None, columns = ['UO'], index = dates)\n",
    "event['UO'] = 9999\n",
    "event.loc[event.index>=pd.datetime(2020,9,1),'UO'] = 110\n",
    "rands = np.random.randn(dates_num, mcpath)\n",
    "\n",
    "result = cal_mc_result(S0, K, r, q, v, mcpath, dates, rands, event, rebate)\n",
    "\n",
    "time2 = time()\n",
    "print(\"It takes {:.4f} sec to do the MC with control variates with {:d} paths\\n\".format(time2-time1, mcpath))\n",
    "print(\"The result is, {:.6f}, with a variance of {:.6f}\\n\".format(np.mean(result), np.var(result)))"
   ]
  },
  {
   "cell_type": "code",
   "execution_count": 6,
   "metadata": {},
   "outputs": [
    {
     "name": "stdout",
     "output_type": "stream",
     "text": [
      "It takes 0.8703 sec to do the MC with control variates with 10000 paths\n",
      "\n",
      "The result is, 0.033265, with a variance of 0.045329\n",
      "\n"
     ]
    }
   ],
   "source": [
    "# antithetic\n",
    "time1 = time()\n",
    "rebate = 0\n",
    "\n",
    "event = pd.DataFrame(None, columns = ['UO'], index = dates)\n",
    "event['UO'] = 9999\n",
    "event.loc[event.index>=pd.datetime(2020,9,1),'UO'] = 110\n",
    "rands = np.random.randn(dates_num, mcpath)\n",
    "\n",
    "result     = cal_mc_result(S0, K, r, q, v, mcpath, dates,  rands, event, rebate)\n",
    "result_anti= cal_mc_result(S0, K, r, q, v, mcpath, dates, -rands, event, rebate)\n",
    "result = (result + result_anti)/2\n",
    "\n",
    "time2 = time()\n",
    "print(\"It takes {:.4f} sec to do the MC with control variates with {:d} paths\\n\".format(time2-time1, mcpath))\n",
    "print(\"The result is, {:.6f}, with a variance of {:.6f}\\n\".format(np.mean(result), np.var(result)))"
   ]
  },
  {
   "cell_type": "code",
   "execution_count": 7,
   "metadata": {},
   "outputs": [
    {
     "name": "stdout",
     "output_type": "stream",
     "text": [
      "cor = 0.854781, beta = 0.996688, analytical value = 0.028254, control mean = 0.028633\n",
      "\n",
      "It takes 1.2908 sec to do the MC with control variates with 10000 paths\n",
      "\n",
      "The result is, 0.038572, with a variance of 0.031702\n",
      "\n"
     ]
    }
   ],
   "source": [
    "# control variate\n",
    "time1 = time()\n",
    "\n",
    "event = pd.DataFrame(None, columns = ['UO'], index = dates)\n",
    "event_c = event.copy()\n",
    "event['UO'] = 9999\n",
    "event.loc[event.index>=pd.datetime(2020,9,1),'UO'] = 110\n",
    "event_c['UO'] = 110 # how to select\n",
    "\n",
    "rands = np.random.randn(dates_num, mcpath)\n",
    "rebate = 0\n",
    "\n",
    "result   = cal_mc_result(S0, K, r, q, v, mcpath, dates,  rands, event  , rebate)\n",
    "result_c = cal_mc_result(S0, K, r, q, v, mcpath, dates,  rands, event_c, rebate)\n",
    "\n",
    "beta = np.cov(result,result_c)[0,1] / np.var(result_c)\n",
    "\n",
    "H_c = 110*exp(0.5*v*sqrt(1/762))\n",
    "otype = \"CUO\"\n",
    "v_c = barrier_option(S0, K, H_c, r, q, v, dates, otype, rebate)\n",
    "print(\"cor = {:.6f}, beta = {:.6f}, analytical value = {:6f}, control mean = {:6f}\\n\".format(\n",
    "    np.corrcoef(result,result_c)[0,1], beta, v_c, np.mean(result_c)))\n",
    "\n",
    "result  = result + beta * (v_c - result_c)\n",
    "\n",
    "time2 = time()\n",
    "print(\"It takes {:.4f} sec to do the MC with control variates with {:d} paths\\n\".format(time2-time1, mcpath))\n",
    "print(\"The result is, {:.6f}, with a variance of {:.6f}\\n\".format(np.mean(result), np.var(result)))"
   ]
  },
  {
   "cell_type": "markdown",
   "metadata": {},
   "source": [
    "## Case 2\n",
    "Step-up barrier: 108 for the first 3 months, 110 in the last 3 months"
   ]
  },
  {
   "cell_type": "code",
   "execution_count": 8,
   "metadata": {},
   "outputs": [
    {
     "name": "stdout",
     "output_type": "stream",
     "text": [
      "It takes 0.5087 sec to do the MC with control variates with 10000 paths\n",
      "\n",
      "The result is, 0.022923, with a variance of 0.068717\n",
      "\n"
     ]
    }
   ],
   "source": [
    "time1 = time()\n",
    "\n",
    "event = pd.DataFrame(None, columns = ['UO'], index = dates)\n",
    "event['UO'] = 9999\n",
    "event.loc[event.index< pd.datetime(2020,9,1),'UO'] = 108\n",
    "event.loc[event.index>=pd.datetime(2020,9,1),'UO'] = 110\n",
    "\n",
    "rands = np.random.randn(dates_num, mcpath)\n",
    "rebate = 0\n",
    "\n",
    "result = cal_mc_result(S0, K, r, q, v, mcpath, dates,  rands, event, rebate)\n",
    "\n",
    "time2 = time()\n",
    "print(\"It takes {:.4f} sec to do the MC with control variates with {:d} paths\\n\".format(time2-time1, mcpath))\n",
    "print(\"The result is, {:.6f}, with a variance of {:.6f}\\n\".format(np.mean(result), np.var(result)))"
   ]
  },
  {
   "cell_type": "markdown",
   "metadata": {},
   "source": [
    "## Case 3\n",
    "Linearly increasing barrier: From 105 to 115 during the 6 months"
   ]
  },
  {
   "cell_type": "code",
   "execution_count": 9,
   "metadata": {},
   "outputs": [
    {
     "name": "stdout",
     "output_type": "stream",
     "text": [
      "It takes 0.4399 sec to do the MC with control variates with 10000 paths\n",
      "\n",
      "The result is, 0.092541, with a variance of 0.487719\n",
      "\n"
     ]
    }
   ],
   "source": [
    "time1 = time()\n",
    "\n",
    "event = pd.DataFrame(None, columns = ['UO'], index = dates)\n",
    "event['UO'] = np.linspace(105,115,dates_num)\n",
    "\n",
    "rands = np.random.randn(dates_num, mcpath)\n",
    "rebate = 0\n",
    "\n",
    "result = cal_mc_result(S0, K, r, q, v, mcpath, dates,  rands, event, rebate)\n",
    "\n",
    "time2 = time()\n",
    "print(\"It takes {:.4f} sec to do the MC with control variates with {:d} paths\\n\".format(time2-time1, mcpath))\n",
    "print(\"The result is, {:.6f}, with a variance of {:.6f}\\n\".format(np.mean(result), np.var(result)))"
   ]
  },
  {
   "cell_type": "code",
   "execution_count": 10,
   "metadata": {},
   "outputs": [
    {
     "name": "stdout",
     "output_type": "stream",
     "text": [
      "cor = 0.288591, beta = 0.687106, analytical value = 0.028454, control mean = 0.025774\n",
      "\n",
      "It takes 0.8567 sec to do the MC with control variates with 10000 paths\n",
      "\n",
      "The result is, 0.078477, with a variance of 0.378837\n",
      "\n"
     ]
    }
   ],
   "source": [
    "# control variate\n",
    "time1 = time()\n",
    "rebate = 0\n",
    "\n",
    "event = pd.DataFrame(None, columns = ['UO'], index = dates)\n",
    "event_c = event.copy()\n",
    "\n",
    "event['UO'] = np.linspace(105,115,dates_num)\n",
    "event_c['UO'] = 110 # how to calculate????\n",
    "rands = np.random.randn(dates_num, mcpath)\n",
    "\n",
    "result   = cal_mc_result(S0, K, r, q, v, mcpath, dates,  rands, event  , rebate)\n",
    "result_c = cal_mc_result(S0, K, r, q, v, mcpath, dates,  rands, event_c, rebate)\n",
    "\n",
    "beta = np.cov(result,result_c)[0,1] / np.var(result_c)\n",
    "H_c = 110*exp(0.5*v*sqrt(1/732))\n",
    "otype = \"CUO\"\n",
    "v_c = barrier_option(S0, K, H_c, r, q, v, dates, otype, rebate)\n",
    "print(\"cor = {:.6f}, beta = {:.6f}, analytical value = {:6f}, control mean = {:6f}\\n\".format(\n",
    "    np.corrcoef(result, result_c)[0,1], beta, v_c, np.mean(result_c)))\n",
    "\n",
    "result  = result + beta * (v_c - result_c)\n",
    "\n",
    "time2 = time()\n",
    "print(\"It takes {:.4f} sec to do the MC with control variates with {:d} paths\\n\".format(time2-time1, mcpath))\n",
    "print(\"The result is, {:.6f}, with a variance of {:.6f}\\n\".format(np.mean(result), np.var(result)))"
   ]
  },
  {
   "cell_type": "markdown",
   "metadata": {},
   "source": [
    "## Case 4\n",
    "Constantly discretely sampled barrier: Barrier at 110 sampled monthly, weekly and daily (3 separate cases) "
   ]
  },
  {
   "cell_type": "code",
   "execution_count": 11,
   "metadata": {},
   "outputs": [
    {
     "name": "stderr",
     "output_type": "stream",
     "text": [
      "D:\\Apps\\Program\\Anaconda\\lib\\site-packages\\ipykernel_launcher.py:42: RuntimeWarning: invalid value encountered in greater\n"
     ]
    },
    {
     "name": "stdout",
     "output_type": "stream",
     "text": [
      "It takes 0.8802 sec to do the MC with control variates with 10000 paths\n",
      "\n",
      "The result is, 0.075731, with a variance of 0.234922\n",
      "\n"
     ]
    }
   ],
   "source": [
    "# monthly\n",
    "time1 = time()\n",
    "\n",
    "event = pd.DataFrame(None, columns = ['UO'], index = dates)\n",
    "month = event.resample('BM').last()\n",
    "event.loc[month.index, \"UO\"] = 110\n",
    "\n",
    "rands = np.random.randn(dates_num, mcpath)\n",
    "rebate = 0\n",
    "\n",
    "result = cal_mc_result(S0, K, r, q, v, mcpath, dates,  rands, event, rebate)\n",
    "\n",
    "time2 = time()\n",
    "print(\"It takes {:.4f} sec to do the MC with control variates with {:d} paths\\n\".format(time2-time1, mcpath))\n",
    "print(\"The result is, {:.6f}, with a variance of {:.6f}\\n\".format(np.mean(result), np.var(result)))"
   ]
  },
  {
   "cell_type": "code",
   "execution_count": 12,
   "metadata": {},
   "outputs": [
    {
     "name": "stderr",
     "output_type": "stream",
     "text": [
      "D:\\Apps\\Program\\Anaconda\\lib\\site-packages\\ipykernel_launcher.py:42: RuntimeWarning: invalid value encountered in greater\n"
     ]
    },
    {
     "name": "stdout",
     "output_type": "stream",
     "text": [
      "cor = 0.384965, beta = 0.192078, analytical value = 0.170275, control mean = 0.175653\n",
      "It takes 0.9874 sec to do the MC with control variates with 10000 paths\n",
      "\n",
      "The result is, 0.073676, with a variance of 0.208276\n",
      "\n"
     ]
    }
   ],
   "source": [
    "# monthly control variate\n",
    "time1 = time()\n",
    "\n",
    "event = pd.DataFrame(None, columns = ['UO'], index = dates)\n",
    "event_c = event.copy()\n",
    "month = event.resample('BM').last()\n",
    "event.loc[month.index, \"UO\"] = 110\n",
    "event_c['UO'] = 110*exp(0.5*v*sqrt(30/365)) # how to calculate????\n",
    "\n",
    "rands = np.random.randn(dates_num, mcpath)\n",
    "rebate = 0\n",
    "\n",
    "result   = cal_mc_result(S0, K, r, q, v, mcpath, dates,  rands, event  , rebate)\n",
    "result_c = cal_mc_result(S0, K, r, q, v, mcpath, dates,  rands, event_c, rebate)\n",
    "\n",
    "beta = np.cov(result,result_c)[0,1] / np.var(result_c)\n",
    "H_c = 110*exp(0.5*v*sqrt(30/365))\n",
    "otype = \"CUO\"\n",
    "v_c = barrier_option(S0, K, H_c, r, q, v, dates, otype, rebate)\n",
    "print(\"cor = {:.6f}, beta = {:.6f}, analytical value = {:6f}, control mean = {:6f}\".format(\n",
    "    np.corrcoef(result, result_c)[0,1], beta, v_c, np.mean(result_c)))\n",
    "\n",
    "result  = result + beta * (v_c - result_c)\n",
    "\n",
    "time2 = time()\n",
    "print(\"It takes {:.4f} sec to do the MC with control variates with {:d} paths\\n\".format(time2-time1, mcpath))\n",
    "print(\"The result is, {:.6f}, with a variance of {:.6f}\\n\".format(np.mean(result), np.var(result)))"
   ]
  },
  {
   "cell_type": "code",
   "execution_count": 13,
   "metadata": {},
   "outputs": [
    {
     "name": "stderr",
     "output_type": "stream",
     "text": [
      "D:\\Apps\\Program\\Anaconda\\lib\\site-packages\\ipykernel_launcher.py:42: RuntimeWarning: invalid value encountered in greater\n"
     ]
    },
    {
     "name": "stdout",
     "output_type": "stream",
     "text": [
      "It takes 0.6991 sec to do the MC with control variates with 10000 paths\n",
      "\n",
      "The result is, 0.062253, with a variance of 0.277482\n",
      "\n"
     ]
    }
   ],
   "source": [
    "# weekly\n",
    "time1 = time()\n",
    "\n",
    "event = pd.DataFrame(None, columns = ['UO'], index = dates)\n",
    "month = event[event.index.dayofweek == 4] # take 4th day of the week, 0 is Monday\n",
    "event.loc[month.index, \"UO\"] = 110\n",
    "\n",
    "rands = np.random.randn(dates_num, mcpath)\n",
    "rebate = 0\n",
    "\n",
    "result = cal_mc_result(S0, K, r, q, v, mcpath, dates,  rands, event, rebate)\n",
    "\n",
    "time2 = time()\n",
    "print(\"It takes {:.4f} sec to do the MC with control variates with {:d} paths\\n\".format(time2-time1, mcpath))\n",
    "print(\"The result is, {:.6f}, with a variance of {:.6f}\\n\".format(np.mean(result), np.var(result)))"
   ]
  },
  {
   "cell_type": "code",
   "execution_count": 14,
   "metadata": {},
   "outputs": [
    {
     "name": "stdout",
     "output_type": "stream",
     "text": [
      "It takes 0.4823 sec to do the MC with control variates with 10000 paths\n",
      "\n",
      "The result is, 0.023404, with a variance of 0.067236\n",
      "\n"
     ]
    }
   ],
   "source": [
    "# daily\n",
    "time1 = time()\n",
    "\n",
    "event = pd.DataFrame(None, columns = ['UO'], index = dates)\n",
    "event[\"UO\"] = 110\n",
    "\n",
    "rands = np.random.randn(dates_num, mcpath)\n",
    "rebate = 0\n",
    "\n",
    "result = cal_mc_result(S0, K, r, q, v, mcpath, dates,  rands, event, rebate)\n",
    "\n",
    "time2 = time()\n",
    "print(\"It takes {:.4f} sec to do the MC with control variates with {:d} paths\\n\".format(time2-time1, mcpath))\n",
    "print(\"The result is, {:.6f}, with a variance of {:.6f}\\n\".format(np.mean(result), np.var(result)))"
   ]
  },
  {
   "cell_type": "code",
   "execution_count": null,
   "metadata": {},
   "outputs": [],
   "source": []
  },
  {
   "cell_type": "code",
   "execution_count": null,
   "metadata": {},
   "outputs": [],
   "source": []
  },
  {
   "cell_type": "code",
   "execution_count": null,
   "metadata": {},
   "outputs": [],
   "source": []
  },
  {
   "cell_type": "code",
   "execution_count": null,
   "metadata": {},
   "outputs": [],
   "source": []
  },
  {
   "cell_type": "code",
   "execution_count": null,
   "metadata": {},
   "outputs": [],
   "source": []
  },
  {
   "cell_type": "code",
   "execution_count": null,
   "metadata": {},
   "outputs": [],
   "source": []
  },
  {
   "cell_type": "code",
   "execution_count": null,
   "metadata": {},
   "outputs": [],
   "source": []
  },
  {
   "cell_type": "code",
   "execution_count": null,
   "metadata": {},
   "outputs": [],
   "source": []
  },
  {
   "cell_type": "code",
   "execution_count": null,
   "metadata": {},
   "outputs": [],
   "source": []
  },
  {
   "cell_type": "code",
   "execution_count": null,
   "metadata": {},
   "outputs": [],
   "source": []
  },
  {
   "cell_type": "code",
   "execution_count": null,
   "metadata": {},
   "outputs": [],
   "source": []
  },
  {
   "cell_type": "code",
   "execution_count": null,
   "metadata": {},
   "outputs": [],
   "source": []
  }
 ],
 "metadata": {
  "kernelspec": {
   "display_name": "Python 3",
   "language": "python",
   "name": "python3"
  },
  "language_info": {
   "codemirror_mode": {
    "name": "ipython",
    "version": 3
   },
   "file_extension": ".py",
   "mimetype": "text/x-python",
   "name": "python",
   "nbconvert_exporter": "python",
   "pygments_lexer": "ipython3",
   "version": "3.7.1"
  }
 },
 "nbformat": 4,
 "nbformat_minor": 2
}
